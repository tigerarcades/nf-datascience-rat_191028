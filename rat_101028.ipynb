{
 "cells": [
  {
   "cell_type": "markdown",
   "metadata": {},
   "source": [
    "1. Linear Regression: What is it?\n",
    "> Linear Regression is a method as well a model to derive a concrete value from a set of data. For example, a simple dataset consistiting of two dimensional vectors is used to derive \"the line\" of best fit, which than can be used to predict a value for any given X. Linear regression is used to determine the slope and the intercept in order to provide the missing data for the \"line of best fit\". The values being predicted is the target. Linear regression is prone to outliners, this is why understanding the quality of data is crucial."
   ]
  },
  {
   "cell_type": "markdown",
   "metadata": {},
   "source": [
    "2. Multiple Regression: What is it?\n",
    "> Multiple regression, as opposed to Linear Regression, is used to not only take one feature into account, but several predictors."
   ]
  }
 ],
 "metadata": {
  "kernelspec": {
   "display_name": "Python [conda env:nf] *",
   "language": "python",
   "name": "conda-env-nf-py"
  },
  "language_info": {
   "codemirror_mode": {
    "name": "ipython",
    "version": 3
   },
   "file_extension": ".py",
   "mimetype": "text/x-python",
   "name": "python",
   "nbconvert_exporter": "python",
   "pygments_lexer": "ipython3",
   "version": "3.6.6"
  }
 },
 "nbformat": 4,
 "nbformat_minor": 2
}
